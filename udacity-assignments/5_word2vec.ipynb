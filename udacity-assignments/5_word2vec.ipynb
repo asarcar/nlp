{
 "cells": [
  {
   "cell_type": "markdown",
   "metadata": {
    "ein.tags": [
     "worksheet-0"
    ],
    "slideshow": {
     "slide_type": "-"
    }
   },
   "source": [
    "Deep Learning\n",
    "=============\n",
    "\n",
    "Assignment 5\n",
    "------------\n",
    "\n",
    "The goal of this assignment is to train a Word2Vec skip-gram model over [Text8](http://mattmahoney.net/dc/textdata) data."
   ]
  },
  {
   "cell_type": "code",
   "execution_count": 0,
   "metadata": {
    "autoscroll": "json-false",
    "collapsed": false,
    "ein.tags": [
     "worksheet-0"
    ],
    "slideshow": {
     "slide_type": "-"
    }
   },
   "outputs": [],
   "source": [
    "# These are all the modules we'll be using later. Make sure you can import them\n",
    "# before proceeding further.\n",
    "%matplotlib inline\n",
    "from __future__ import print_function\n",
    "import collections\n",
    "import math\n",
    "import numpy as np\n",
    "import os\n",
    "import random\n",
    "import tensorflow as tf\n",
    "import zipfile\n",
    "from matplotlib import pylab\n",
    "from six.moves import range\n",
    "from six.moves.urllib.request import urlretrieve\n",
    "from sklearn.manifold import TSNE"
   ]
  },
  {
   "cell_type": "markdown",
   "metadata": {
    "ein.tags": [
     "worksheet-0"
    ],
    "slideshow": {
     "slide_type": "-"
    }
   },
   "source": [
    "Download the data from the source website if necessary."
   ]
  },
  {
   "cell_type": "code",
   "execution_count": 0,
   "metadata": {
    "autoscroll": "json-false",
    "collapsed": false,
    "ein.tags": [
     "worksheet-0"
    ],
    "slideshow": {
     "slide_type": "-"
    }
   },
   "outputs": [],
   "source": [
    "url = 'http://mattmahoney.net/dc/'\n",
    "data_root = './data'\n",
    "def maybe_download(fname, expected_bytes):\n",
    "  \"\"\"Download a file if not present, and make sure it's the right size.\"\"\"\n",
    "  dst_fname = os.path.join(data_root, fname)\n",
    "  if not os.path.exists(dst_fname):\n",
    "    dst_fname, _ = urlretrieve(url + fname, dst_fname)\n",
    "  statinfo = os.stat(dst_fname)\n",
    "  if statinfo.st_size == expected_bytes:\n",
    "    print('Found/verified %s: Stored it in %s' % (fname, dst_fname))\n",
    "  else:\n",
    "    print(statinfo.st_size)\n",
    "    raise Exception(\n",
    "      'Failed to verify ' + fname + '. Can you get to it with a browser?')\n",
    "  return dst_fname\n",
    "\n",
    "filename = maybe_download('text8.zip', 31344016)"
   ]
  },
  {
   "cell_type": "markdown",
   "metadata": {
    "ein.tags": [
     "worksheet-0"
    ],
    "slideshow": {
     "slide_type": "-"
    }
   },
   "source": [
    "Read the data into a string."
   ]
  },
  {
   "cell_type": "code",
   "execution_count": 0,
   "metadata": {
    "autoscroll": "json-false",
    "collapsed": false,
    "ein.tags": [
     "worksheet-0"
    ],
    "slideshow": {
     "slide_type": "-"
    }
   },
   "outputs": [],
   "source": [
    "def read_data(filename):\n",
    "  \"\"\"Extract the first file enclosed in a zip file as a list of words\"\"\"\n",
    "  with zipfile.ZipFile(filename) as f:\n",
    "    data = tf.compat.as_str(f.read(f.namelist()[0])).split()\n",
    "  return data\n",
    "  \n",
    "words = read_data(filename)\n",
    "print('Data size %d' % len(words))"
   ]
  },
  {
   "cell_type": "markdown",
   "metadata": {
    "ein.tags": [
     "worksheet-0"
    ],
    "slideshow": {
     "slide_type": "-"
    }
   },
   "source": [
    "Build the dictionary and replace rare words with UNK token."
   ]
  },
  {
   "cell_type": "code",
   "execution_count": 0,
   "metadata": {
    "autoscroll": "json-false",
    "collapsed": false,
    "ein.tags": [
     "worksheet-0"
    ],
    "slideshow": {
     "slide_type": "-"
    }
   },
   "outputs": [],
   "source": [
    "vocabulary_size = 50000\n",
    "\n",
    "def build_dataset(words):\n",
    "  count = [('UNK', -1)]\n",
    "  count.extend(collections.Counter(words).most_common(vocabulary_size - 1))\n",
    "  dictionary = dict()\n",
    "  for word, _ in count:\n",
    "    dictionary[word] = len(dictionary)\n",
    "  data = list()\n",
    "  unk_count = 0\n",
    "  for word in words:\n",
    "    if word in dictionary:\n",
    "      index = dictionary[word]\n",
    "    else:\n",
    "      index = 0  # dictionary['UNK']\n",
    "      unk_count = unk_count + 1\n",
    "    data.append(index)\n",
    "  count[0] = ('UNK', unk_count)\n",
    "  reverse_dictionary = dict(zip(dictionary.values(), dictionary.keys())) \n",
    "  return data, count, dictionary, reverse_dictionary\n",
    "\n",
    "data, count, dictionary, reverse_dictionary = build_dataset(words)\n",
    "print('Most common words (+UNK)', count[:5])\n",
    "print('Sample data', data[:10])\n",
    "del words  # Hint to reduce memory."
   ]
  },
  {
   "cell_type": "code",
   "execution_count": 0,
   "metadata": {
    "autoscroll": "json-false",
    "collapsed": false,
    "ein.tags": [
     "worksheet-0"
    ],
    "slideshow": {
     "slide_type": "-"
    }
   },
   "outputs": [],
   "source": [
    "print(\"# words=%d\"%len(data))"
   ]
  },
  {
   "cell_type": "markdown",
   "metadata": {
    "ein.tags": [
     "worksheet-0"
    ],
    "slideshow": {
     "slide_type": "-"
    }
   },
   "source": [
    "Function to generate a training batch for the skip-gram model."
   ]
  },
  {
   "cell_type": "code",
   "execution_count": 0,
   "metadata": {
    "autoscroll": "json-false",
    "collapsed": false,
    "ein.tags": [
     "worksheet-0"
    ],
    "slideshow": {
     "slide_type": "-"
    }
   },
   "outputs": [],
   "source": [
    "data_index = 0\n",
    "\n",
    "def generate_batch(batch_size, num_skips, skip_window):\n",
    "  global data_index\n",
    "  assert batch_size % num_skips == 0\n",
    "  assert num_skips <= 2 * skip_window\n",
    "  batch = np.ndarray(shape=(batch_size), dtype=np.int32)\n",
    "  labels = np.ndarray(shape=(batch_size, 1), dtype=np.int32)\n",
    "  span = 2 * skip_window + 1 # [ skip_window target skip_window ]\n",
    "  buffer = collections.deque(maxlen=span)\n",
    "  for _ in range(span):\n",
    "    buffer.append(data[data_index])\n",
    "    data_index = (data_index + 1) % len(data)\n",
    "  for i in range(batch_size // num_skips):\n",
    "    target = skip_window  # target label at the center of the buffer\n",
    "    targets_to_avoid = [ skip_window ]\n",
    "    for j in range(num_skips):\n",
    "      while target in targets_to_avoid:\n",
    "        target = random.randint(0, span - 1)\n",
    "      targets_to_avoid.append(target)\n",
    "      batch[i * num_skips + j] = buffer[skip_window]\n",
    "      labels[i * num_skips + j, 0] = buffer[target]\n",
    "    buffer.append(data[data_index])\n",
    "    data_index = (data_index + 1) % len(data)\n",
    "  return batch, labels\n",
    "\n",
    "print('data:', [reverse_dictionary[di] for di in data[:8]])\n",
    "\n",
    "for num_skips, skip_window in [(2, 1), (4, 2)]:\n",
    "    data_index = 0\n",
    "    batch, labels = generate_batch(batch_size=8, num_skips=num_skips, skip_window=skip_window)\n",
    "    print('\\nwith num_skips = %d and skip_window = %d:' % (num_skips, skip_window))\n",
    "    print('    batch:', [reverse_dictionary[bi] for bi in batch])\n",
    "    print('    labels:', [reverse_dictionary[li] for li in labels.reshape(8)])"
   ]
  },
  {
   "cell_type": "markdown",
   "metadata": {
    "ein.tags": [
     "worksheet-0"
    ],
    "slideshow": {
     "slide_type": "-"
    }
   },
   "source": [
    "Train a skip-gram model."
   ]
  },
  {
   "cell_type": "code",
   "execution_count": 0,
   "metadata": {
    "autoscroll": "json-false",
    "collapsed": false,
    "ein.tags": [
     "worksheet-0"
    ],
    "slideshow": {
     "slide_type": "-"
    }
   },
   "outputs": [],
   "source": [
    "batch_size = 128\n",
    "embedding_size = 128 # Dimension of the embedding vector.\n",
    "skip_window = 1 # How many words to consider left and right.\n",
    "num_skips = 2 # How many times to reuse an input to generate a label.\n",
    "# We pick a random validation set to sample nearest neighbors. here we limit the\n",
    "# validation samples to the words that have a low numeric ID, which by\n",
    "# construction are also the most frequent. \n",
    "valid_size = 16 # Random set of words to evaluate similarity on.\n",
    "valid_window = 100 # Only pick dev samples in the head of the distribution.\n",
    "valid_examples = np.array(random.sample(range(valid_window), valid_size))\n",
    "num_sampled = 64 # Number of negative examples to sample.\n",
    "\n",
    "graph = tf.Graph()\n",
    "\n",
    "with graph.as_default(), tf.device('/cpu:0'):\n",
    "\n",
    "  # Input data.\n",
    "  train_dataset = tf.placeholder(tf.int32, shape=[batch_size])\n",
    "  train_labels = tf.placeholder(tf.int32, shape=[batch_size, 1])\n",
    "  valid_dataset = tf.constant(valid_examples, dtype=tf.int32)\n",
    "  \n",
    "  # Variables.\n",
    "  embeddings = tf.Variable(\n",
    "    tf.random_uniform([vocabulary_size, embedding_size], -1.0, 1.0))\n",
    "  softmax_weights = tf.Variable(\n",
    "    tf.truncated_normal([vocabulary_size, embedding_size],\n",
    "                         stddev=1.0 / math.sqrt(embedding_size)))\n",
    "  softmax_biases = tf.Variable(tf.zeros([vocabulary_size]))\n",
    "  \n",
    "  # Model.\n",
    "  # Look up embeddings for inputs.\n",
    "  embed = tf.nn.embedding_lookup(embeddings, train_dataset)\n",
    "  # Compute the softmax loss, using a sample of the negative labels each time.\n",
    "  loss = tf.reduce_mean(\n",
    "    tf.nn.sampled_softmax_loss(weights=softmax_weights, biases=softmax_biases, inputs=embed,\n",
    "                               labels=train_labels, num_sampled=num_sampled, num_classes=vocabulary_size))\n",
    "\n",
    "  # Optimizer.\n",
    "  # Note: The optimizer will optimize the softmax_weights AND the embeddings.\n",
    "  # This is because the embeddings are defined as a variable quantity and the\n",
    "  # optimizer's `minimize` method will by default modify all variable quantities \n",
    "  # that contribute to the tensor it is passed.\n",
    "  # See docs on `tf.train.Optimizer.minimize()` for more details.\n",
    "  optimizer = tf.train.AdagradOptimizer(1.0).minimize(loss)\n",
    "  \n",
    "  # Compute the similarity between minibatch examples and all embeddings.\n",
    "  # We use the cosine distance:\n",
    "  norm = tf.sqrt(tf.reduce_sum(tf.square(embeddings), 1, keep_dims=True))\n",
    "  normalized_embeddings = embeddings / norm\n",
    "  valid_embeddings = tf.nn.embedding_lookup(\n",
    "    normalized_embeddings, valid_dataset)\n",
    "  similarity = tf.matmul(valid_embeddings, tf.transpose(normalized_embeddings))"
   ]
  },
  {
   "cell_type": "code",
   "execution_count": 0,
   "metadata": {
    "autoscroll": "json-false",
    "collapsed": false,
    "ein.tags": [
     "worksheet-0"
    ],
    "slideshow": {
     "slide_type": "-"
    }
   },
   "outputs": [],
   "source": [
    "num_steps = 100001\n",
    "\n",
    "with tf.Session(graph=graph) as session:\n",
    "  tf.global_variables_initializer().run()\n",
    "  print('Initialized')\n",
    "  average_loss = 0\n",
    "  for step in range(num_steps):\n",
    "    batch_data, batch_labels = generate_batch(\n",
    "      batch_size, num_skips, skip_window)\n",
    "    feed_dict = {train_dataset : batch_data, train_labels : batch_labels}\n",
    "    _, l = session.run([optimizer, loss], feed_dict=feed_dict)\n",
    "    average_loss += l\n",
    "    if step % 2000 == 0:\n",
    "      if step > 0:\n",
    "        average_loss = average_loss / 2000\n",
    "      # The average loss is an estimate of the loss over the last 2000 batches.\n",
    "      print('Average loss at step %d: %f' % (step, average_loss))\n",
    "      average_loss = 0\n",
    "    # note that this is expensive (~20% slowdown if computed every 500 steps)\n",
    "    if step % 10000 == 0:\n",
    "      sim = similarity.eval()\n",
    "      for i in range(valid_size):\n",
    "        valid_word = reverse_dictionary[valid_examples[i]]\n",
    "        top_k = 8 # number of nearest neighbors\n",
    "        nearest = (-sim[i, :]).argsort()[1:top_k+1]\n",
    "        log = 'Nearest to %s:' % valid_word\n",
    "        for k in range(top_k):\n",
    "          close_word = reverse_dictionary[nearest[k]]\n",
    "          log = '%s %s,' % (log, close_word)\n",
    "        print(log)\n",
    "  final_embeddings = normalized_embeddings.eval()"
   ]
  },
  {
   "cell_type": "code",
   "execution_count": 0,
   "metadata": {
    "autoscroll": "json-false",
    "collapsed": false,
    "ein.tags": [
     "worksheet-0"
    ],
    "slideshow": {
     "slide_type": "-"
    }
   },
   "outputs": [],
   "source": [
    "num_points = 400\n",
    "\n",
    "tsne = TSNE(perplexity=30, n_components=2, init='pca', n_iter=5000)\n",
    "two_d_embeddings = tsne.fit_transform(final_embeddings[1:num_points+1, :])"
   ]
  },
  {
   "cell_type": "code",
   "execution_count": 0,
   "metadata": {
    "autoscroll": "json-false",
    "collapsed": false,
    "ein.tags": [
     "worksheet-0"
    ],
    "slideshow": {
     "slide_type": "-"
    }
   },
   "outputs": [],
   "source": [
    "def plot(embeddings, labels):\n",
    "  assert embeddings.shape[0] >= len(labels), 'More labels than embeddings'\n",
    "  pylab.figure(figsize=(15,15))  # in inches\n",
    "  for i, label in enumerate(labels):\n",
    "    x, y = embeddings[i,:]\n",
    "    pylab.scatter(x, y)\n",
    "    pylab.annotate(label, xy=(x, y), xytext=(5, 2), textcoords='offset points',\n",
    "                   ha='right', va='bottom')\n",
    "  pylab.show()\n",
    "\n",
    "words = [reverse_dictionary[i] for i in range(1, num_points+1)]\n",
    "plot(two_d_embeddings, words)"
   ]
  },
  {
   "cell_type": "markdown",
   "metadata": {
    "ein.tags": [
     "worksheet-0"
    ],
    "slideshow": {
     "slide_type": "-"
    }
   },
   "source": [
    "---\n",
    "\n",
    "Problem\n",
    "-------\n",
    "\n",
    "An alternative to skip-gram is another Word2Vec model called [CBOW](http://arxiv.org/abs/1301.3781) (Continuous Bag of Words). In the CBOW model, instead of predicting a context word from a word vector, you predict a word from the sum of all the word vectors in its context. Implement and evaluate a CBOW model trained on the text8 dataset.\n",
    "\n",
    "---"
   ]
  },
  {
   "cell_type": "code",
   "execution_count": 0,
   "metadata": {
    "autoscroll": "json-false",
    "collapsed": false,
    "ein.tags": [
     "worksheet-0"
    ],
    "slideshow": {
     "slide_type": "-"
    }
   },
   "outputs": [],
   "source": [
    "def gen_skip_batch(self):\n",
    "  return generate_batch(self.batch_size, 2, 1)"
   ]
  },
  {
   "cell_type": "code",
   "execution_count": 0,
   "metadata": {
    "autoscroll": "json-false",
    "collapsed": false,
    "ein.tags": [
     "worksheet-0"
    ],
    "slideshow": {
     "slide_type": "-"
    }
   },
   "outputs": [],
   "source": [
    "def gen_cbow_batch(self):\n",
    "  n_win_words = 2*self.cbow_win\n",
    "  max_index = len(data) - n_win_words\n",
    "  assert self.word_index < max_index\n",
    "  batch = np.ndarray(shape=(self.batch_size, n_win_words), dtype=np.int32)\n",
    "  labels = np.ndarray(shape=(self.batch_size, 1), dtype=np.int32)\n",
    "  for i in range(self.batch_size):\n",
    "    labels[i] = data[self.word_index + self.cbow_win]\n",
    "    for j in range(self.cbow_win):\n",
    "      batch[i][j] = data[self.word_index + j]\n",
    "      batch[i][j + self.cbow_win] = data[self.word_index + j + self.cbow_win + 1]\n",
    "    self.word_index = (self.word_index + 1) % max_index\n",
    "  return batch, labels\n",
    "\n",
    "print('data:', [reverse_dictionary[di] for di in data[:16]])\n",
    "\n",
    "class CB():\n",
    "  word_index = 0\n",
    "  gen_cbow_batch = gen_cbow_batch\n",
    "  def __init__(self, batch_size, cbow_win):\n",
    "    self.batch_size = batch_size\n",
    "    self.cbow_win   = cbow_win\n",
    "  \n",
    "    \n",
    "for cbow_window in [1, 2]:\n",
    "  cb = CB(batch_size=8, cbow_win=cbow_window)\n",
    "  batch, labels = cb.gen_cbow_batch()\n",
    "  print('\\nwith cbow_window = %d:' % cbow_window)\n",
    "  print('  1. (batch, label):', [([reverse_dictionary[wi] for wi in bi], reverse_dictionary[la]) for bi, la in zip(batch, labels.reshape(-1))])\n",
    "  batch, labels = cb.gen_cbow_batch()\n",
    "  print('  2. (batch, label):', [([reverse_dictionary[wi] for wi in bi], reverse_dictionary[la]) for bi, la in zip(batch, labels.reshape(-1))])"
   ]
  },
  {
   "cell_type": "code",
   "execution_count": 0,
   "metadata": {
    "autoscroll": "json-false",
    "collapsed": false,
    "ein.tags": [
     "worksheet-0"
    ],
    "slideshow": {
     "slide_type": "-"
    }
   },
   "outputs": [],
   "source": [
    "# WORD 2 VEC Model (CBOW)\n",
    "# Softmax Score: Input => Avg(Embedding) => Projection(FC) => SampledSofmax\n",
    "def define_state_cbow(self):\n",
    "  with self.graph.as_default():\n",
    "    # Input Layer placeholders for data and labels\n",
    "    self.dataset_ph = tf.placeholder(tf.int32,\n",
    "                                    shape=[None, 2*self.cbow_win], name=\"dataset\")\n",
    "    self.labels_ph = tf.placeholder(tf.int32,\n",
    "                                    shape=[None, 1], name=\"labels\")\n",
    "    self.dropout_ph = tf.placeholder(tf.float32, name= \"dropout\")\n",
    "    self.l2_reg_ph = tf.placeholder(tf.float32, name= \"l2_reg\")\n",
    "    self.wordset_ph = tf.placeholder(tf.int32,\n",
    "                                    shape=[None], name=\"wordset\")\n",
    "\n",
    "    # Embedding Layer:\n",
    "    # Bound the weights to prevent exploding gradient problem\n",
    "    # Embedding: Use random uniform initializer\n",
    "    uniform_init = tf.random_uniform_initializer(-1.0, 1.0)\n",
    "    with tf.variable_scope(\"Embedding\", initializer=uniform_init) as scope:\n",
    "      embeds = tf.get_variable(\"Embeds\",\n",
    "                               [vocabulary_size, self.embedding_size], initializer=uniform_init)\n",
    "\n",
    "    # Softmax Score Layer: \n",
    "    # Softmax Weights: Use truncated normal initializer\n",
    "    tr_norm_init = tf.truncated_normal_initializer(stddev=1.0/math.sqrt(self.embedding_size))\n",
    "    # Softmax Biases: Use zeros initializer\n",
    "    with tf.variable_scope(\"Softmax\", initializer=tr_norm_init) as scope:\n",
    "      sm_weights = tf.get_variable(\"Weights\", [vocabulary_size, self.embedding_size])\n",
    "      sm_biases    = tf.get_variable(\"Biases\", [vocabulary_size], initializer=tf.zeros_initializer)\n",
    "\n",
    "  return"
   ]
  },
  {
   "cell_type": "code",
   "execution_count": 0,
   "metadata": {
    "autoscroll": "json-false",
    "collapsed": false,
    "ein.tags": [
     "worksheet-0"
    ],
    "slideshow": {
     "slide_type": "slide"
    }
   },
   "outputs": [],
   "source": [
    "# WORD 2 VEC Model (CBOW)\n",
    "# Softmax Score: Input => Avg(Embedding) => Projection(FC) => SampledSofmax\n",
    "def define_computation_cbow(self):\n",
    "  with self.graph.as_default():\n",
    "    # Embedding\n",
    "    with tf.variable_scope(\"Embedding\", reuse=True) as scope:\n",
    "      embeds = tf.get_variable(\"Embeds\")\n",
    "    # win_embeds: Dim(win_embeds): [None, 2*cbow_win, d]\n",
    "    win_embeds  = tf.nn.embedding_lookup(embeds, self.dataset_ph)\n",
    "    # embed_list: [e1, e2, ..., en] of length 2*cbow_win, where Dim(ei) = [None, d]\n",
    "    embed_list = tf.unstack(win_embeds, axis=1)\n",
    "    # CBOW\n",
    "    avg_embed = tf.scalar_mul(1.0/(2*self.cbow_win), tf.add_n(embed_list))\n",
    "    \n",
    "    # SoftmaxScore\n",
    "    with tf.variable_scope(\"Softmax\", reuse=True) as scope:\n",
    "      sm_weights = tf.get_variable(\"Weights\")\n",
    "      sm_biases    = tf.get_variable(\"Biases\")\n",
    "    sm_loss = tf.nn.l2_loss(sm_weights)\n",
    "      \n",
    "    # Cross Entropy Loss\n",
    "    XEnt = tf.nn.sampled_softmax_loss(weights=sm_weights, biases=sm_biases,\n",
    "                                      inputs=avg_embed, labels=self.labels_ph,\n",
    "                                      num_sampled = self.n_samples, num_classes=vocabulary_size)\n",
    "  \n",
    "    # Scalar Loss\n",
    "    self.loss_op = tf.reduce_mean(XEnt) + self.l2_reg_ph*sm_loss\n",
    "  \n",
    "    # Optimizer with exponential decay of learning rate\n",
    "    self.train_op = tf.train.AdagradOptimizer(self.lr).minimize(self.loss_op)\n",
    "\n",
    "    # Validation: Compute similarity between minibatch and vocabulary\n",
    "    norm = tf.sqrt(tf.reduce_sum(tf.square(embeds),axis=1,keep_dims=True))\n",
    "    self.embeds_op = embeds/norm\n",
    "    valid_embeds = tf.nn.embedding_lookup(self.embeds_op, self.wordset_ph)\n",
    "    sim_mat = tf.matmul(valid_embeds, tf.transpose(self.embeds_op))\n",
    "    # Store the indices of the top_k similar words\n",
    "    _, self.top_k_op = tf.nn.top_k(sim_mat, k=self.valid_top_k, sorted=True)\n",
    "    \n",
    "  return"
   ]
  },
  {
   "cell_type": "code",
   "execution_count": 0,
   "metadata": {
    "autoscroll": "json-false",
    "collapsed": false,
    "ein.tags": [
     "worksheet-0"
    ],
    "slideshow": {
     "slide_type": "-"
    }
   },
   "outputs": [],
   "source": [
    "def run_epochs_cbow(self):\n",
    "  with tf.Session(graph=self.graph) as s:\n",
    "    initer = tf.global_variables_initializer()\n",
    "    s.run(initer)\n",
    "    print(\"Initialized\")\n",
    "    tot_loss = 0; num_loss = 0\n",
    "    for step in range(self.n_steps):\n",
    "      # Generate a minibatch.\n",
    "      batch_data, batch_labels = self.get_data()\n",
    "      # Dictionary: Feeds Training Minibatch.\n",
    "      feed_dict = {\n",
    "        self.dataset_ph:    batch_data,\n",
    "        self.labels_ph:       batch_labels,\n",
    "        self.l2_reg_ph:       self.l2_reg,\n",
    "        self.dropout_ph:   self.dropout\n",
    "      }\n",
    "      _, tr_loss = s.run( [self.train_op, self.loss_op], feed_dict=feed_dict)\n",
    "      tot_loss += tr_loss; num_loss += 1\n",
    "\n",
    "      # Compute average loss every n_avg steps\n",
    "      if (step % self.n_avg == 0):\n",
    "        print('Step %d: Average Loss=%f' % (step, tot_loss/num_loss))\n",
    "        tot_loss = 0; num_loss = 0\n",
    "\n",
    "      # Compute validation accuracy every n_validate steps\n",
    "      if (step % self.n_validate == 0):  \n",
    "        val_dict = {self.wordset_ph: self.valid_examples}\n",
    "        top_k = s.run(self.top_k_op, feed_dict=val_dict)\n",
    "        valid_words = [reverse_dictionary[i] for i in self.valid_examples]\n",
    "        print(\"---------------------------------------------------------\")\n",
    "        print(\"Nearest Wordlist to candidate words: \")\n",
    "        for idx, word in enumerate(valid_words):\n",
    "          # skip over the original word against whom we are seeking similarity\n",
    "          close_words = [reverse_dictionary[j] for j in top_k[idx]\n",
    "                         if j != self.valid_examples[idx]]\n",
    "          print(\"'%s':\\t\\t%s\"% (word, close_words))\n",
    "          \n",
    "    print(\"=================\")\n",
    "    print(\"Training Completed\")\n",
    "    feed_dict = {}\n",
    "    self.embeds = s.run( self.embeds_op, feed_dict=feed_dict)"
   ]
  },
  {
   "cell_type": "code",
   "execution_count": 0,
   "metadata": {
    "autoscroll": "json-false",
    "collapsed": false,
    "ein.tags": [
     "worksheet-0"
    ],
    "slideshow": {
     "slide_type": "-"
    }
   },
   "outputs": [],
   "source": [
    "def plot_cbow_words(self):\n",
    "  tsne = TSNE(perplexity=self.perplexity, n_components=2,\n",
    "              init='pca', n_iter=self.n_iter)\n",
    "  embeds = tsne.fit_transform(self.embeds[1:self.n_points+1, :])\n",
    "  words = [reverse_dictionary[idx] for idx in range(1, self.n_points + 1)]\n",
    "\n",
    "  pylab.figure(figsize=(15,15))  # in inches\n",
    "  for i, label in enumerate(words):\n",
    "    x, y = embeds[i,:]\n",
    "    pylab.scatter(x, y)\n",
    "    pylab.annotate(label, xy=(x, y), xytext=(5, 2), textcoords='offset points',\n",
    "                   ha='right', va='bottom')\n",
    "  pylab.show()"
   ]
  },
  {
   "cell_type": "code",
   "execution_count": 0,
   "metadata": {
    "autoscroll": "json-false",
    "collapsed": false,
    "ein.tags": [
     "worksheet-0"
    ],
    "slideshow": {
     "slide_type": "-"
    }
   },
   "outputs": [],
   "source": [
    "class CbowModel():\n",
    "  # Data Extraction\n",
    "  word_index  = 0\n",
    "  # Learning Hyperparameters\n",
    "  l2_reg            = 0.01\n",
    "  dropout        = 0.95\n",
    "  lr                     = 1.0\n",
    "  # Dimensional Hyperparameters\n",
    "  cbow_win     = 1\n",
    "  batch_size   = 128\n",
    "  embedding_size = 128\n",
    "  # Training Hyperparameters\n",
    "  # E(-ve words): estimator are -ve samples drawn from another distribution \n",
    "  n_samples   = 64 \n",
    "  n_avg            = 2000\n",
    "  n_validate   = 10*n_avg\n",
    "  n_steps        = 10*n_validate\n",
    "  # Validation: Distributed Dimensions (Embedding) Validation\n",
    "  valid_size     = 16 # Random words on which we evaluate similarity\n",
    "  valid_win      = 100 # High frequency words from which we sample validation\n",
    "  valid_top_k = 8\n",
    "  # TSNE and Display\n",
    "  n_points       = 400\n",
    "  n_iter            = 5000\n",
    "  perplexity    = 30\n",
    "  # Class Methods\n",
    " g et_data = gen_cbow_batch\n",
    "  define_state = define_state_cbow\n",
    "  define_computation = define_computation_cbow\n",
    "  run_epochs = run_epochs_cbow\n",
    "  plot_words = plot_cbow_words\n",
    "\n",
    "  def __init__(self):\n",
    "    self.graph = tf.Graph()\n",
    "    # Skip 'UNK' word\n",
    "    rnd_word_idxs = random.sample(range(1, self.valid_win+1),self.valid_size)\n",
    "    self.valid_examples = np.array(rnd_word_idxs, dtype=np.int32)\n",
    "    \n",
    "cbowMod = CbowModel()    "
   ]
  },
  {
   "cell_type": "code",
   "execution_count": 0,
   "metadata": {
    "autoscroll": "json-false",
    "collapsed": false,
    "ein.tags": [
     "worksheet-0"
    ],
    "slideshow": {
     "slide_type": "-"
    }
   },
   "outputs": [],
   "source": [
    "cbowMod.define_state()\n",
    "cbowMod.define_computation()\n",
    "cbowMod.run_epochs()"
   ]
  },
  {
   "cell_type": "code",
   "execution_count": 0,
   "metadata": {
    "autoscroll": "json-false",
    "collapsed": false,
    "ein.tags": [
     "worksheet-0"
    ],
    "slideshow": {
     "slide_type": "-"
    }
   },
   "outputs": [],
   "source": [
    "cbowMod.plot_words()"
   ]
  }
 ],
 "metadata": {
  "colab": {
   "default_view": {},
   "name": "5_word2vec.ipynb",
   "provenance": {},
   "version": "0.3.2",
   "views": {}
  },
  "kernelspec": {
   "display_name": "Python 2",
   "name": "python2"
  },
  "name": "5_word2vec.ipynb"
 },
 "nbformat": 4,
 "nbformat_minor": 0
}
