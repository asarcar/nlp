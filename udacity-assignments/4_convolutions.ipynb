{
 "cells": [
  {
   "cell_type": "markdown",
   "metadata": {
    "ein.tags": [
     "worksheet-0"
    ],
    "slideshow": {
     "slide_type": "-"
    }
   },
   "source": [
    "Deep Learning\n",
    "=============\n",
    "\n",
    "Assignment 4\n",
    "------------\n",
    "\n",
    "Previously in `2_fullyconnected.ipynb` and `3_regularization.ipynb`, we trained fully connected networks to classify [notMNIST](http://yaroslavvb.blogspot.com/2011/09/notmnist-dataset.html) characters.\n",
    "\n",
    "The goal of this assignment is make the neural network convolutional."
   ]
  },
  {
   "cell_type": "code",
   "execution_count": 0,
   "metadata": {
    "autoscroll": "json-false",
    "collapsed": false,
    "ein.tags": [
     "worksheet-0"
    ],
    "slideshow": {
     "slide_type": "-"
    }
   },
   "outputs": [],
   "source": [
    "# These are all the modules we'll be using later. Make sure you can import them\n",
    "# before proceeding further.\n",
    "from __future__ import print_function\n",
    "import numpy as np\n",
    "import tensorflow as tf\n",
    "from six.moves import cPickle as pickle\n",
    "from six.moves import range"
   ]
  },
  {
   "cell_type": "code",
   "execution_count": 0,
   "metadata": {
    "autoscroll": "json-false",
    "collapsed": false,
    "ein.tags": [
     "worksheet-0"
    ],
    "slideshow": {
     "slide_type": "-"
    }
   },
   "outputs": [],
   "source": [
    "import os\n",
    "data_root = './data'\n",
    "pickle_file = os.path.join(data_root, 'notMNIST.pickle')\n",
    "print(\"{}\".format(pickle_file))"
   ]
  },
  {
   "cell_type": "code",
   "execution_count": 0,
   "metadata": {
    "autoscroll": "json-false",
    "collapsed": false,
    "ein.tags": [
     "worksheet-0"
    ],
    "slideshow": {
     "slide_type": "-"
    }
   },
   "outputs": [],
   "source": [
    "with open(pickle_file, 'rb') as f:\n",
    "  save = pickle.load(f)\n",
    "  train_dataset = save['train_dataset']\n",
    "  train_labels = save['train_labels']\n",
    "  valid_dataset = save['valid_dataset']\n",
    "  valid_labels = save['valid_labels']\n",
    "  test_dataset = save['test_dataset']\n",
    "  test_labels = save['test_labels']\n",
    "  del save  # hint to help gc free up memory\n",
    "  print('Training set', train_dataset.shape, train_labels.shape)\n",
    "  print('Validation set', valid_dataset.shape, valid_labels.shape)\n",
    "  print('Test set', test_dataset.shape, test_labels.shape)"
   ]
  },
  {
   "cell_type": "markdown",
   "metadata": {
    "ein.tags": [
     "worksheet-0"
    ],
    "slideshow": {
     "slide_type": "-"
    }
   },
   "source": [
    "Reformat into a TensorFlow-friendly shape:\n",
    "- convolutions need the image data formatted as a cube (width by height by #channels)\n",
    "- labels as float 1-hot encodings."
   ]
  },
  {
   "cell_type": "code",
   "execution_count": 0,
   "metadata": {
    "autoscroll": "json-false",
    "collapsed": false,
    "ein.tags": [
     "worksheet-0"
    ],
    "slideshow": {
     "slide_type": "-"
    }
   },
   "outputs": [],
   "source": [
    "image_size = 28\n",
    "num_labels = 10\n",
    "num_channels = 1 # grayscale\n",
    "def reformat(dataset, labels):\n",
    "  dataset = dataset.reshape(\n",
    "    (-1, image_size, image_size, num_channels)).astype(np.float32)\n",
    "  labels = (np.arange(num_labels) == labels[:,None]).astype(np.float32)\n",
    "  return dataset, labels\n",
    "train_dataset, train_labels = reformat(train_dataset, train_labels)\n",
    "valid_dataset, valid_labels = reformat(valid_dataset, valid_labels)\n",
    "test_dataset, test_labels = reformat(test_dataset, test_labels)\n",
    "print('Training set', train_dataset.shape, train_labels.shape)\n",
    "print('Validation set', valid_dataset.shape, valid_labels.shape)\n",
    "print('Test set', test_dataset.shape, test_labels.shape)"
   ]
  },
  {
   "cell_type": "code",
   "execution_count": 0,
   "metadata": {
    "autoscroll": "json-false",
    "collapsed": false,
    "ein.tags": [
     "worksheet-0"
    ],
    "slideshow": {
     "slide_type": "-"
    }
   },
   "outputs": [],
   "source": [
    "def accuracy(predictions, labels):\n",
    "  return (100.0 * np.sum(np.argmax(predictions, 1) == np.argmax(labels, 1))\n",
    "          / predictions.shape[0])"
   ]
  },
  {
   "cell_type": "markdown",
   "metadata": {
    "ein.tags": [
     "worksheet-0"
    ],
    "slideshow": {
     "slide_type": "-"
    }
   },
   "source": [
    "Let's build a small network with two convolutional layers, followed by one fully connected layer. Convolutional networks are more expensive computationally, so we'll limit its depth and number of fully connected nodes."
   ]
  },
  {
   "cell_type": "code",
   "execution_count": 0,
   "metadata": {
    "autoscroll": "json-false",
    "collapsed": false,
    "ein.tags": [
     "worksheet-0"
    ],
    "slideshow": {
     "slide_type": "-"
    }
   },
   "outputs": [],
   "source": [
    "batch_size = 16\n",
    "patch_size = 5\n",
    "depth = 16\n",
    "num_hidden = 64\n",
    "\n",
    "graph = tf.Graph()\n",
    "\n",
    "with graph.as_default():\n",
    "\n",
    "  # Input data.\n",
    "  tf_train_dataset = tf.placeholder(\n",
    "    tf.float32, shape=(batch_size, image_size, image_size, num_channels))\n",
    "  tf_train_labels = tf.placeholder(tf.float32, shape=(batch_size, num_labels))\n",
    "  tf_valid_dataset = tf.constant(valid_dataset)\n",
    "  tf_test_dataset = tf.constant(test_dataset)\n",
    "  \n",
    "  # Variables.\n",
    "  layer1_weights = tf.Variable(tf.truncated_normal(\n",
    "      [patch_size, patch_size, num_channels, depth], stddev=0.1))\n",
    "  layer1_biases = tf.Variable(tf.zeros([depth]))\n",
    "  layer2_weights = tf.Variable(tf.truncated_normal(\n",
    "      [patch_size, patch_size, depth, depth], stddev=0.1))\n",
    "  layer2_biases = tf.Variable(tf.constant(1.0, shape=[depth]))\n",
    "  layer3_weights = tf.Variable(tf.truncated_normal(\n",
    "      [image_size // 4 * image_size // 4 * depth, num_hidden], stddev=0.1))\n",
    "  layer3_biases = tf.Variable(tf.constant(1.0, shape=[num_hidden]))\n",
    "  layer4_weights = tf.Variable(tf.truncated_normal(\n",
    "      [num_hidden, num_labels], stddev=0.1))\n",
    "  layer4_biases = tf.Variable(tf.constant(1.0, shape=[num_labels]))\n",
    "  \n",
    "  # Model.\n",
    "  def model(data):\n",
    "    conv = tf.nn.conv2d(data, layer1_weights, [1, 2, 2, 1], padding='SAME')\n",
    "    hidden = tf.nn.relu(conv + layer1_biases)\n",
    "    conv = tf.nn.conv2d(hidden, layer2_weights, [1, 2, 2, 1], padding='SAME')\n",
    "    hidden = tf.nn.relu(conv + layer2_biases)\n",
    "    shape = hidden.get_shape().as_list()\n",
    "    reshape = tf.reshape(hidden, [shape[0], shape[1] * shape[2] * shape[3]])\n",
    "    hidden = tf.nn.relu(tf.matmul(reshape, layer3_weights) + layer3_biases)\n",
    "    return tf.matmul(hidden, layer4_weights) + layer4_biases\n",
    "  \n",
    "  # Training computation.\n",
    "  logits = model(tf_train_dataset)\n",
    "  loss = tf.reduce_mean(\n",
    "    tf.nn.softmax_cross_entropy_with_logits(labels=tf_train_labels, logits=logits))\n",
    "    \n",
    "  # Optimizer.\n",
    "  optimizer = tf.train.GradientDescentOptimizer(0.05).minimize(loss)\n",
    "  \n",
    "  # Predictions for the training, validation, and test data.\n",
    "  train_prediction = tf.nn.softmax(logits)\n",
    "  valid_prediction = tf.nn.softmax(model(tf_valid_dataset))\n",
    "  test_prediction = tf.nn.softmax(model(tf_test_dataset))"
   ]
  },
  {
   "cell_type": "code",
   "execution_count": 0,
   "metadata": {
    "autoscroll": "json-false",
    "collapsed": false,
    "ein.tags": [
     "worksheet-0"
    ],
    "slideshow": {
     "slide_type": "-"
    }
   },
   "outputs": [],
   "source": [
    "num_steps = 1001\n",
    "\n",
    "with tf.Session(graph=graph) as session:\n",
    "  tf.global_variables_initializer().run()\n",
    "  print('Initialized')\n",
    "  for step in range(num_steps):\n",
    "    offset = (step * batch_size) % (train_labels.shape[0] - batch_size)\n",
    "    batch_data = train_dataset[offset:(offset + batch_size), :, :, :]\n",
    "    batch_labels = train_labels[offset:(offset + batch_size), :]\n",
    "    feed_dict = {tf_train_dataset : batch_data, tf_train_labels : batch_labels}\n",
    "    _, l, predictions = session.run(\n",
    "      [optimizer, loss, train_prediction], feed_dict=feed_dict)\n",
    "    if (step % 50 == 0):\n",
    "      print('Minibatch loss at step %d: %f' % (step, l))\n",
    "      print('Minibatch accuracy: %.1f%%' % accuracy(predictions, batch_labels))\n",
    "      print('Validation accuracy: %.1f%%' % accuracy(\n",
    "        valid_prediction.eval(), valid_labels))\n",
    "  print('Test accuracy: %.1f%%' % accuracy(test_prediction.eval(), test_labels))"
   ]
  },
  {
   "cell_type": "markdown",
   "metadata": {
    "ein.tags": [
     "worksheet-0"
    ],
    "slideshow": {
     "slide_type": "-"
    }
   },
   "source": [
    "---\n",
    "Problem 1\n",
    "---------\n",
    "\n",
    "The convolutional model above uses convolutions with stride 2 to reduce the dimensionality. Replace the strides by a max pooling operation (`nn.max_pool()`) of stride 2 and kernel size 2.\n",
    "\n",
    "---"
   ]
  },
  {
   "cell_type": "markdown",
   "metadata": {
    "ein.tags": [
     "worksheet-0"
    ],
    "slideshow": {
     "slide_type": "-"
    }
   },
   "source": [
    "---\n",
    "Problem 2\n",
    "---------\n",
    "\n",
    "Try to get the best performance you can using a convolutional net. Look for example at the classic [LeNet5](http://yann.lecun.com/exdb/lenet/) architecture, adding Dropout, and/or adding learning rate decay.\n",
    "\n",
    "---"
   ]
  },
  {
   "cell_type": "code",
   "execution_count": 0,
   "metadata": {
    "autoscroll": "json-false",
    "collapsed": false,
    "ein.tags": [
     "worksheet-0"
    ],
    "slideshow": {
     "slide_type": "-"
    }
   },
   "outputs": [],
   "source": [
    "# Randomly picks a batch of training and validation data\n",
    "def get_data(self, dataset, labels):\n",
    "  n = len(dataset)\n",
    "  perm = np.random.randint(n, size=self.batch_size)\n",
    "  return dataset[perm], labels[perm]\n",
    "\n",
    "def get_hidden_dim(self):\n",
    "  n_dim = image_size//(self.pool_st*self.pool_st)*image_size//(self.pool_st*self.pool_st)*self.n_depth\n",
    "  return n_dim"
   ]
  },
  {
   "cell_type": "code",
   "execution_count": 0,
   "metadata": {
    "autoscroll": "json-false",
    "collapsed": false,
    "ein.tags": [
     "worksheet-0"
    ],
    "slideshow": {
     "slide_type": "-"
    }
   },
   "outputs": [],
   "source": [
    "# CONVOLUTIONAL NEURAL MODEL:\n",
    "# Softmax Score: Input => Conv1 => ReLU1 => MaxPool1 => Conv2 => ReLU2 => MaxPool2 => NN(FC-ReLU3) => FC\n",
    "def define_state_conv_nn(self):\n",
    "  with self.graph.as_default():\n",
    "    # Input Layer placeholders for data and labels\n",
    "    self.dataset_ph = tf.placeholder(tf.float32,\n",
    "                                     shape=(None, image_size, image_size, num_channels), name=\"dataset\")\n",
    "    self.labels_ph = tf.placeholder(tf.float32,\n",
    "                                    shape=(None, num_labels), name=\"labels\")\n",
    "    self.l2_reg_ph = tf.placeholder(tf.float32, name= \"l2_reg\")\n",
    "    self.dropout_ph = tf.placeholder(tf.float32, name= \"dropout\")\n",
    "    \n",
    "    # Use truncated normal initializer: stddev = 0.1\n",
    "    # Bound the weights to prevent exploding gradient problem\n",
    "    tr_norm_init = tf.truncated_normal_initializer(stddev=0.1)\n",
    "    # Conv1:\n",
    "    with tf.variable_scope(\"Conv1\", initializer=tr_norm_init) as scope:\n",
    "      conv1_weights = tf.get_variable(\"Weights\", [self.patch_size, self.patch_size, num_channels, self.n_depth])\n",
    "      conv1_biases    = tf.get_variable(\"Biases\", [self.n_depth], initializer=tf.zeros_initializer)\n",
    "    # Conv2:\n",
    "    with tf.variable_scope(\"Conv2\", initializer=tr_norm_init) as scope:\n",
    "      conv2_weights = tf.get_variable(\"Weights\", [self.patch_size, self.patch_size, self.n_depth, self.n_depth])\n",
    "      conv2_biases    = tf.get_variable(\"Biases\", [self.n_depth], initializer=tf.zeros_initializer)\n",
    "\n",
    "    n_dim = self.get_hidden_dim()\n",
    "    # NN: Fully Connected Layer => Non Linear xForm (ReLU)\n",
    "    with tf.variable_scope(\"NN\", initializer=tr_norm_init) as scope:\n",
    "      nn_weights = tf.get_variable(\"Weights\", [n_dim, self.hidden_size])\n",
    "      nn_biases    = tf.get_variable(\"Biases\", [self.hidden_size], initializer=tf.zeros_initializer)\n",
    "    # Softmax Score Layer: Fully Connected Projection Layer\n",
    "    with tf.variable_scope(\"Softmax\", initializer=tr_norm_init) as scope:\n",
    "      sm_weights = tf.get_variable(\"Weights\", [self.hidden_size, num_labels])\n",
    "      sm_biases    = tf.get_variable(\"Biases\", [num_labels], initializer=tf.zeros_initializer)\n",
    "\n",
    "    return"
   ]
  },
  {
   "cell_type": "code",
   "execution_count": 0,
   "metadata": {
    "autoscroll": "json-false",
    "collapsed": false,
    "ein.tags": [
     "worksheet-0"
    ],
    "slideshow": {
     "slide_type": "-"
    }
   },
   "outputs": [],
   "source": [
    "# Softmax Score: Input => Conv1 => ReLU1 => MaxPool1 => Conv2 => ReLU2 => MaxPool2 => NN(FC-ReLU3) => FC\n",
    "def define_computation_conv_nn(self):\n",
    "  with self.graph.as_default():\n",
    "    # Conv1\n",
    "    with tf.variable_scope(\"Conv1\", reuse=True) as scope:\n",
    "      conv1_weights = tf.get_variable(\"Weights\")\n",
    "      conv1_biases = tf.get_variable(\"Biases\")\n",
    "      \n",
    "    conv1 = tf.nn.conv2d(self.dataset_ph, conv1_weights, [1, 1, 1, 1], padding='SAME') \n",
    "    relu1 = tf.nn.relu(conv1 + conv1_biases, \"ReLU1\")\n",
    "    # Prevent Overfitting: Dropout at Activation and L2-Reg of Weights\n",
    "    conv1d = tf.nn.dropout(relu1, self.dropout_ph)\n",
    "    conv1_loss = tf.nn.l2_loss(conv1_weights)\n",
    "    # MaxPool1\n",
    "    maxpool1 = tf.nn.max_pool(conv1d, ksize=[1, self.kernel_size, self.kernel_size, 1],\n",
    "                              strides=[1, self.pool_st, self.pool_st, 1], padding='SAME')\n",
    "    \n",
    "    # Conv2\n",
    "    with tf.variable_scope(\"Conv2\", reuse=True) as scope:\n",
    "      conv2_weights = tf.get_variable(\"Weights\")\n",
    "      conv2_biases = tf.get_variable(\"Biases\")\n",
    "      \n",
    "    conv2 = tf.nn.conv2d(maxpool1, conv2_weights, [1, 1, 1, 1], padding='SAME') \n",
    "    relu2 = tf.nn.relu(conv2 + conv2_biases, \"ReLU2\")\n",
    "    # Prevent Overfitting: Dropout at Activation and L2-Reg of Weights\n",
    "    conv2d = tf.nn.dropout(relu2, self.dropout_ph)\n",
    "    conv2_loss = tf.nn.l2_loss(conv2_weights)\n",
    "    # MaxPool2\n",
    "    maxpool2 = tf.nn.max_pool(conv2d, ksize=[1, self.kernel_size, self.kernel_size, 1],\n",
    "                              strides=[1, self.pool_st, self.pool_st, 1], padding='SAME')\n",
    "\n",
    "    # NN\n",
    "    with tf.variable_scope(\"NN\", reuse=True) as scope:\n",
    "      nn_weights = tf.get_variable(\"Weights\")\n",
    "      nn_biases = tf.get_variable(\"Biases\")\n",
    "    # Reshape maxpool2 to feed into the fully connected Neural Network Layer\n",
    "    n_dim = np.prod(maxpool2.get_shape().as_list()[1:])\n",
    "    nn_input = tf.reshape(maxpool2, [-1, n_dim])\n",
    "    Z_nn = tf.matmul(nn_input, nn_weights) + nn_biases\n",
    "    A_nn = tf.nn.relu(Z_nn, \"ReLU3\")\n",
    "    # Prevent Overfitting: Dropout at Activation and L2-Reg of Weights\n",
    "    Ad_nn = tf.nn.dropout(A_nn, self.dropout_ph)\n",
    "    nn_loss = tf.nn.l2_loss(nn_weights)\n",
    "\n",
    "    # SoftmaxScore\n",
    "    with tf.variable_scope(\"Softmax\", reuse=True) as scope:\n",
    "      sm_weights = tf.get_variable(\"Weights\")\n",
    "      sm_biases    = tf.get_variable(\"Biases\")\n",
    "    Z_sm = tf.matmul(Ad_nn, sm_weights) + sm_biases\n",
    "    # Prevent Overfitting: Dropout at Activation and L2-Reg of Weights\n",
    "    logits = tf.nn.dropout(Z_sm, self.dropout_ph)  \n",
    "    sm_loss = tf.nn.l2_loss(sm_weights)\n",
    "    \n",
    "    # SoftmaxScore to Prediction\n",
    "    self.prediction_op = tf.nn.softmax(logits, name=\"Prediction\")\n",
    "    # Cross Entropy Loss\n",
    "    XEnt = tf.nn.softmax_cross_entropy_with_logits(logits=logits,labels=self.labels_ph)\n",
    "  \n",
    "    # Scalar Loss\n",
    "    self.loss_op = tf.reduce_mean(XEnt) + self.l2_reg_ph*(conv1_loss + conv2_loss + nn_loss + sm_loss)\n",
    "  \n",
    "    # Accuracy\n",
    "    P = tf.argmax(self.prediction_op, axis=1)\n",
    "    L = tf.argmax(self.labels_ph, axis=1)\n",
    "    self.accuracy_op = 100.0 * tf.reduce_mean(tf.to_float(tf.equal(P,L)))\n",
    "\n",
    "    # Optimizer with exponential decay of learning rate\n",
    "    n_steps = tf.Variable(0, trainable=False)\n",
    "    learning_rate = tf.train.exponential_decay(self.lr, n_steps, self.decay_steps, self.decay_rate)\n",
    "    self.train_op = tf.train.GradientDescentOptimizer(learning_rate).minimize(self.loss_op, global_step=n_steps)\n",
    "\n",
    "  return"
   ]
  },
  {
   "cell_type": "code",
   "execution_count": 0,
   "metadata": {
    "autoscroll": "json-false",
    "collapsed": false,
    "ein.tags": [
     "worksheet-0"
    ],
    "slideshow": {
     "slide_type": "-"
    }
   },
   "outputs": [],
   "source": [
    "def run_epochs_conv_nn(self):\n",
    "  best_val_epoch = 0\n",
    "  best_val_acc      = -float('inf')\n",
    "\n",
    "  with tf.device('/cpu:0'), tf.Session(graph=self.graph) as s:\n",
    "    initer = tf.global_variables_initializer()\n",
    "    s.run(initer)\n",
    "    print(\"Initialized\")\n",
    "    for epoch in range(self.n_epochs):\n",
    "      max_steps = len(train_dataset)/self.batch_size\n",
    "      loss = []\n",
    "      acc  = []\n",
    "      for step in range(max_steps):\n",
    "        # Generate a minibatch.\n",
    "        batch_data, batch_labels = self.get_data(train_dataset, train_labels)\n",
    "        # Dictionary: Feeds Training Minibatch.\n",
    "        feed_dict = {\n",
    "          self.dataset_ph:    batch_data,\n",
    "          self.labels_ph:       batch_labels,\n",
    "          self.l2_reg_ph:       self.l2_reg,\n",
    "          self.dropout_ph:   self.dropout\n",
    "        }\n",
    "        _, tr_loss, tr_acc = s.run( [self.train_op, self.loss_op, self.accuracy_op], feed_dict=feed_dict)\n",
    "        loss.append(tr_loss)\n",
    "        acc.append(tr_acc)\n",
    "        if (step % self.n_validate == 0):\n",
    "          print(\"Epoch=%d: Step=%d: Training Loss=%.2f: Accuracy=%.2f%%\"\n",
    "                %(epoch, step, np.mean(loss), np.mean(acc)))\n",
    "\n",
    "      # Compute validation accuracy realized after a full epoch run\n",
    "      feed_dict = {\n",
    "        self.dataset_ph: valid_dataset,\n",
    "        self.labels_ph: valid_labels,\n",
    "        self.l2_reg_ph:0.0,\n",
    "        self.dropout_ph:1.0\n",
    "      }\n",
    "      val_acc = s.run(self.accuracy_op, feed_dict=feed_dict)\n",
    "      print(\"----------------\")\n",
    "      print(\"Epoch=%d: Training Loss=%.2f: Accuracy=%.2f%%: Validation Accuracy: %.2f%%\\n\"\n",
    "            %(epoch, np.mean(loss), np.mean(acc), val_acc))\n",
    "          \n",
    "      # Remember the epoch when best validation accuracy was realized\n",
    "      # Stop early if average validation accuracy is not improving for a few steps\n",
    "      if val_acc > best_val_acc:\n",
    "        best_val_epoch = step\n",
    "        best_val_acc = val_acc\n",
    "          \n",
    "      if epoch >= (best_val_epoch + self.early_stop):\n",
    "        print(\"Step %d: Best_Epoch %d: Early_Stop %d\" % (step, best_val_epoch, self.early_stop))\n",
    "        print(\"Terminate training early. Validation accuracy has flattened at %.2f%%\"% best_val_acc)\n",
    "        break\n",
    "      \n",
    "    print(\"=================\")\n",
    "    feed_dict = {\n",
    "      self.dataset_ph: test_dataset,\n",
    "      self.labels_ph: test_labels,\n",
    "      self.l2_reg_ph:0.0,\n",
    "      self.dropout_ph:1.0\n",
    "    }\n",
    "    test_acc = s.run( self.accuracy_op, feed_dict=feed_dict)\n",
    "    print(\"Training Completed: Test Accuracy: %.2f%%\\n\" % test_acc)\n",
    "    print(\"=================\")"
   ]
  },
  {
   "cell_type": "code",
   "execution_count": 0,
   "metadata": {
    "autoscroll": "json-false",
    "collapsed": false,
    "ein.tags": [
     "worksheet-0"
    ],
    "slideshow": {
     "slide_type": "-"
    }
   },
   "outputs": [],
   "source": [
    "# Fixed Dimensions\n",
    "# image_size = 28\n",
    "# num_labels = 10\n",
    "# num_channels = 1\n",
    "class ImageModel():\n",
    "  l2_reg            = 0.01\n",
    "  dropout        = 0.9\n",
    "  lr                     = 0.1\n",
    "  decay_rate   = 0.9\n",
    "  decay_steps = 1000\n",
    "  kernel_size   = 2\n",
    "  pool_st         = 2\n",
    "  patch_size   = 5\n",
    "  n_depth       = 16\n",
    "  hidden_size = 64\n",
    "  batch_size   = 128\n",
    "  n_validate   = 32\n",
    "  n_epochs     = 10\n",
    "  early_stop   = 2\n",
    "  get_hidden_dim = get_hidden_dim\n",
    "  define_state = define_state_conv_nn\n",
    "  define_computation = define_computation_conv_nn\n",
    "  get_data = get_data\n",
    "  run_epochs = run_epochs_conv_nn\n",
    "\n",
    "  def __init__(self):\n",
    "    self.graph = tf.Graph()\n",
    "    \n",
    "imMod = ImageModel()    "
   ]
  },
  {
   "cell_type": "code",
   "execution_count": 0,
   "metadata": {
    "autoscroll": "json-false",
    "collapsed": false,
    "ein.tags": [
     "worksheet-0"
    ],
    "slideshow": {
     "slide_type": "-"
    }
   },
   "outputs": [],
   "source": [
    "imMod.define_state()\n",
    "imMod.define_computation()\n",
    "imMod.run_epochs()"
   ]
  },
  {
   "cell_type": "markdown",
   "metadata": {
    "ein.tags": [
     "worksheet-0"
    ],
    "slideshow": {
     "slide_type": "-"
    }
   },
   "source": [
    "Validation Accuracy: 89.20%\n",
    "Test Accuracy: 94.94%\n",
    "Based on the latest hyperparameters:\n",
    "l2_reg            = 0.01\n",
    "dropout        = 0.9\n",
    "lr                     = 0.1\n",
    "decay_rate   = 0.9\n",
    "decay_steps = 1000\n",
    "kernel_size   = 2\n",
    "pool_st         = 2\n",
    "patch_size   = 5\n",
    "n_depth       = 16\n",
    "hidden_size = 64\n",
    "batch_size   = 128\n",
    "n_epochs     = 10"
   ]
  }
 ],
 "metadata": {
  "colab": {
   "default_view": {},
   "name": "4_convolutions.ipynb",
   "provenance": {},
   "version": "0.3.2",
   "views": {}
  },
  "kernelspec": {
   "display_name": "Python 2",
   "name": "python2"
  },
  "name": "4_convolutions.ipynb"
 },
 "nbformat": 4,
 "nbformat_minor": 0
}
